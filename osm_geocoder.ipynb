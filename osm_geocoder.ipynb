{
  "nbformat": 4,
  "nbformat_minor": 0,
  "metadata": {
    "colab": {
      "name": "osm_geocoder",
      "provenance": [],
      "collapsed_sections": [],
      "authorship_tag": "ABX9TyPdU4rLTa0zijjjULqwB483",
      "include_colab_link": true
    },
    "kernelspec": {
      "name": "python3",
      "display_name": "Python 3"
    },
    "language_info": {
      "name": "python"
    }
  },
  "cells": [
    {
      "cell_type": "markdown",
      "metadata": {
        "id": "view-in-github",
        "colab_type": "text"
      },
      "source": [
        "<a href=\"https://colab.research.google.com/github/geohead/Geocoding-workflows/blob/main/osm_geocoder.ipynb\" target=\"_parent\"><img src=\"https://colab.research.google.com/assets/colab-badge.svg\" alt=\"Open In Colab\"/></a>"
      ]
    },
    {
      "cell_type": "code",
      "metadata": {
        "id": "XJmt7nMaOJ6v"
      },
      "source": [
        "from google.colab import files\n",
        "\n",
        "uploaded = files.upload()\n",
        "wsp_csv = next(iter(uploaded))"
      ],
      "execution_count": null,
      "outputs": []
    },
    {
      "cell_type": "code",
      "metadata": {
        "id": "Mo5198pEOcjW"
      },
      "source": [
        "import pandas as pd\n"
      ],
      "execution_count": 16,
      "outputs": []
    },
    {
      "cell_type": "code",
      "metadata": {
        "id": "e3M9lFhOOqR0"
      },
      "source": [
        "wsp_df = pd.read_csv(wsp_csv)\n",
        "wsp_df.head(3)\n"
      ],
      "execution_count": null,
      "outputs": []
    },
    {
      "cell_type": "code",
      "metadata": {
        "id": "2FTSj9_GSwS8"
      },
      "source": [
        "wsp_df.columns"
      ],
      "execution_count": null,
      "outputs": []
    },
    {
      "cell_type": "code",
      "metadata": {
        "id": "DjsXwG7SUDPH"
      },
      "source": [
        "\n",
        "!pip install geocoder"
      ],
      "execution_count": null,
      "outputs": []
    },
    {
      "cell_type": "code",
      "metadata": {
        "id": "M9BEoqbPU2d-"
      },
      "source": [
        "wsp_df['College / University'].head(5)"
      ],
      "execution_count": null,
      "outputs": []
    },
    {
      "cell_type": "code",
      "source": [
        "#del lat\n",
        "#del lon"
      ],
      "metadata": {
        "id": "7aGhYxUR-gxL"
      },
      "execution_count": 26,
      "outputs": []
    },
    {
      "cell_type": "code",
      "metadata": {
        "id": "bOguzKM_UILv"
      },
      "source": [
        "import geocoder\n",
        "\n",
        "location =[]\n",
        "lat =[]\n",
        "lon =[]\n",
        "\n",
        "for item in wsp_df['College / University']:\n",
        "\n",
        "  print (item)\n",
        "  g = geocoder.osm(item)\n",
        "  coords= g.latlng\n",
        " \n",
        "\n",
        "  if (coords) != None:\n",
        "   \n",
        "    lat.append(coords[0])\n",
        "    lon.append(coords[1])\n",
        "\n",
        "    print (coords[0])\n",
        "    print (coords[1])\n",
        "\n",
        "  else:\n",
        "    print (\"No data\")\n",
        "    lat.append(0)\n",
        "    lon.append(0)\n",
        "    print(\"0,0\") "
      ],
      "execution_count": null,
      "outputs": []
    },
    {
      "cell_type": "code",
      "source": [
        "#location\n",
        "wsp_df['latitude']=lat\n",
        "wsp_df['longitude']= lon"
      ],
      "metadata": {
        "id": "Wm9qoL2RLy8y"
      },
      "execution_count": 23,
      "outputs": []
    },
    {
      "cell_type": "code",
      "source": [
        "wsp_df.to_csv('results.csv')\n",
        "files.download('results.csv')"
      ],
      "metadata": {
        "colab": {
          "base_uri": "https://localhost:8080/",
          "height": 17
        },
        "id": "R2_o46GfIyRa",
        "outputId": "64e8097f-819e-4a8d-b74d-d04c08429adc"
      },
      "execution_count": 24,
      "outputs": [
        {
          "output_type": "display_data",
          "data": {
            "application/javascript": [
              "\n",
              "    async function download(id, filename, size) {\n",
              "      if (!google.colab.kernel.accessAllowed) {\n",
              "        return;\n",
              "      }\n",
              "      const div = document.createElement('div');\n",
              "      const label = document.createElement('label');\n",
              "      label.textContent = `Downloading \"${filename}\": `;\n",
              "      div.appendChild(label);\n",
              "      const progress = document.createElement('progress');\n",
              "      progress.max = size;\n",
              "      div.appendChild(progress);\n",
              "      document.body.appendChild(div);\n",
              "\n",
              "      const buffers = [];\n",
              "      let downloaded = 0;\n",
              "\n",
              "      const channel = await google.colab.kernel.comms.open(id);\n",
              "      // Send a message to notify the kernel that we're ready.\n",
              "      channel.send({})\n",
              "\n",
              "      for await (const message of channel.messages) {\n",
              "        // Send a message to notify the kernel that we're ready.\n",
              "        channel.send({})\n",
              "        if (message.buffers) {\n",
              "          for (const buffer of message.buffers) {\n",
              "            buffers.push(buffer);\n",
              "            downloaded += buffer.byteLength;\n",
              "            progress.value = downloaded;\n",
              "          }\n",
              "        }\n",
              "      }\n",
              "      const blob = new Blob(buffers, {type: 'application/binary'});\n",
              "      const a = document.createElement('a');\n",
              "      a.href = window.URL.createObjectURL(blob);\n",
              "      a.download = filename;\n",
              "      div.appendChild(a);\n",
              "      a.click();\n",
              "      div.remove();\n",
              "    }\n",
              "  "
            ],
            "text/plain": [
              "<IPython.core.display.Javascript object>"
            ]
          },
          "metadata": {}
        },
        {
          "output_type": "display_data",
          "data": {
            "application/javascript": [
              "download(\"download_91875b79-22bb-4313-b26a-9f71fb5acc7f\", \"incident_osm.csv\", 8772)"
            ],
            "text/plain": [
              "<IPython.core.display.Javascript object>"
            ]
          },
          "metadata": {}
        }
      ]
    }
  ]
}